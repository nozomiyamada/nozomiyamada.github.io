{
 "cells": [
  {
   "attachments": {},
   "cell_type": "markdown",
   "metadata": {},
   "source": [
    "# make all word list & random select"
   ]
  },
  {
   "cell_type": "code",
   "execution_count": 9,
   "metadata": {},
   "outputs": [],
   "source": [
    "import random, json\n",
    "import pandas as pd\n",
    "import numpy as np\n",
    "with open('js/words.js') as f:\n",
    "    next(f)\n",
    "    dic = json.load(f)"
   ]
  },
  {
   "cell_type": "code",
   "execution_count": 37,
   "metadata": {},
   "outputs": [
    {
     "name": "stdout",
     "output_type": "stream",
     "text": [
      "560\n"
     ]
    }
   ],
   "source": [
    "all_item = []\n",
    "for genre, words in dic.items():\n",
    "    for word in words:\n",
    "        all_item.append([genre, word])\n",
    "print(len(all_item))\n",
    "\n",
    "allword = [x[1] for x in all_item]\n",
    "allword_set = set(allword)\n",
    "for w in allword:\n",
    "    if allword.count(w) > 1:\n",
    "            print(w)"
   ]
  },
  {
   "attachments": {},
   "cell_type": "markdown",
   "metadata": {},
   "source": [
    "# rewrite"
   ]
  },
  {
   "cell_type": "code",
   "execution_count": 33,
   "metadata": {},
   "outputs": [],
   "source": [
    "for v in dic.values():\n",
    "    v.sort()"
   ]
  },
  {
   "cell_type": "code",
   "execution_count": 34,
   "metadata": {},
   "outputs": [],
   "source": [
    "with open('words.js', 'w') as f:\n",
    "    f.write(\"const word_dic = \\n\")\n",
    "    json.dump(dic, f, indent=4, ensure_ascii=False)"
   ]
  },
  {
   "attachments": {},
   "cell_type": "markdown",
   "metadata": {},
   "source": [
    "# Beatles\n",
    "create lyrics"
   ]
  },
  {
   "cell_type": "code",
   "execution_count": 56,
   "metadata": {},
   "outputs": [
    {
     "data": {
      "text/plain": [
       "\"<br>(One, two, three)<br><br>I know it's true<br>It's all because of you<br>And, if I make it through<br>It's all because of you<br><br>And, now and then<br>If we must start again<br>Well, we will know for sure<br>That I will love you<br><br>Now and then<br>I miss you<br>Oh, now and then<br>I want you to be there for me<br>Always to return to me<br><br>I know it's true<br>It's all because of you<br>And, if you go away<br>I know you'll never stay<br><br>Now and then<br>I miss you<br>Oh, now and then<br>I want you to be there for me<br><br>(Ahh)<br>(Ahh)<br>(Ahh)<br>(Ooh)<br>(Ahh)<br><br>I know it's true<br>It's all because of you<br>And, if I make it through<br>It's all because of you<br>\""
      ]
     },
     "execution_count": 56,
     "metadata": {},
     "output_type": "execute_result"
    }
   ],
   "source": [
    "text = \"\"\"\n",
    "(One, two, three)\n",
    "\n",
    "I know it's true\n",
    "It's all because of you\n",
    "And, if I make it through\n",
    "It's all because of you\n",
    "\n",
    "And, now and then\n",
    "If we must start again\n",
    "Well, we will know for sure\n",
    "That I will love you\n",
    "\n",
    "Now and then\n",
    "I miss you\n",
    "Oh, now and then\n",
    "I want you to be there for me\n",
    "Always to return to me\n",
    "\n",
    "I know it's true\n",
    "It's all because of you\n",
    "And, if you go away\n",
    "I know you'll never stay\n",
    "\n",
    "Now and then\n",
    "I miss you\n",
    "Oh, now and then\n",
    "I want you to be there for me\n",
    "\n",
    "(Ahh)\n",
    "(Ahh)\n",
    "(Ahh)\n",
    "(Ooh)\n",
    "(Ahh)\n",
    "\n",
    "I know it's true\n",
    "It's all because of you\n",
    "And, if I make it through\n",
    "It's all because of you\n",
    "\"\"\"\n",
    "\n",
    "text.replace('\\n','<br>')"
   ]
  },
  {
   "attachments": {},
   "cell_type": "markdown",
   "metadata": {},
   "source": [
    "## create `beatles.js`"
   ]
  },
  {
   "cell_type": "code",
   "execution_count": 6,
   "metadata": {},
   "outputs": [
    {
     "data": {
      "text/html": [
       "<div>\n",
       "<style scoped>\n",
       "    .dataframe tbody tr th:only-of-type {\n",
       "        vertical-align: middle;\n",
       "    }\n",
       "\n",
       "    .dataframe tbody tr th {\n",
       "        vertical-align: top;\n",
       "    }\n",
       "\n",
       "    .dataframe thead th {\n",
       "        text-align: right;\n",
       "    }\n",
       "</style>\n",
       "<table border=\"1\" class=\"dataframe\">\n",
       "  <thead>\n",
       "    <tr style=\"text-align: right;\">\n",
       "      <th></th>\n",
       "      <th>song</th>\n",
       "      <th>album</th>\n",
       "      <th>year</th>\n",
       "      <th>bpm</th>\n",
       "      <th>vocal</th>\n",
       "      <th>harmony</th>\n",
       "      <th>database_url</th>\n",
       "      <th>harmony_youtube</th>\n",
       "      <th>instruments</th>\n",
       "      <th>instrumental_youtube</th>\n",
       "      <th>spotify</th>\n",
       "      <th>lyrics</th>\n",
       "    </tr>\n",
       "  </thead>\n",
       "  <tbody>\n",
       "    <tr>\n",
       "      <th>0</th>\n",
       "      <td>I Saw Her Standing There</td>\n",
       "      <td>Please Please Me</td>\n",
       "      <td>1962</td>\n",
       "      <td>160.0</td>\n",
       "      <td>Paul</td>\n",
       "      <td>John</td>\n",
       "      <td>https://beatlesdata.info/1/01_isawherstandingt...</td>\n",
       "      <td>cj1z69kCHNY</td>\n",
       "      <td>325・Duo Jet・ヘフナー</td>\n",
       "      <td>VNchFGmF-jI</td>\n",
       "      <td>3KiexfmhxHvG5IgAElmTkd</td>\n",
       "      <td>(1,2,3,4!)&lt;br&gt;&lt;br&gt;Well, she was just seventeen...</td>\n",
       "    </tr>\n",
       "    <tr>\n",
       "      <th>1</th>\n",
       "      <td>Misery</td>\n",
       "      <td>Please Please Me</td>\n",
       "      <td>1963</td>\n",
       "      <td>134.0</td>\n",
       "      <td>Paul・John</td>\n",
       "      <td></td>\n",
       "      <td>https://beatlesdata.info/1/02_misery.html</td>\n",
       "      <td></td>\n",
       "      <td>J-160E・Duo Jet・ヘフナー・ピアノ</td>\n",
       "      <td>UX1v-XisfkY</td>\n",
       "      <td>40qXGg5nRbcWzcFb26KWkQ</td>\n",
       "      <td>The world is treating me bad... Misery&lt;br&gt;&lt;br&gt;...</td>\n",
       "    </tr>\n",
       "    <tr>\n",
       "      <th>2</th>\n",
       "      <td>Anna (Go To Him)</td>\n",
       "      <td>Please Please Me</td>\n",
       "      <td>1963</td>\n",
       "      <td>109.0</td>\n",
       "      <td>John</td>\n",
       "      <td>Paul・George</td>\n",
       "      <td>https://beatlesdata.info/1/03_anna.html</td>\n",
       "      <td>lVoV_eX8OnQ</td>\n",
       "      <td>J-160E・Duo Jet・ヘフナー</td>\n",
       "      <td>7-51b5RXCo8</td>\n",
       "      <td>2baEFuU0gQon0hgVRioI1o</td>\n",
       "      <td>Anna&lt;br&gt;You come and ask me, girl&lt;br&gt;To set yo...</td>\n",
       "    </tr>\n",
       "    <tr>\n",
       "      <th>3</th>\n",
       "      <td>Chains</td>\n",
       "      <td>Please Please Me</td>\n",
       "      <td>1963</td>\n",
       "      <td>130.0</td>\n",
       "      <td>George</td>\n",
       "      <td>Paul・John</td>\n",
       "      <td>https://beatlesdata.info/1/04_chains.html</td>\n",
       "      <td>bdRTlePJ0lI</td>\n",
       "      <td>325・Duo Jet・ヘフナー・ハーモニカ</td>\n",
       "      <td>DVhatLAd0Tg</td>\n",
       "      <td>3JQWLa88R35d971o5bIImd</td>\n",
       "      <td>Chains, my baby's got me locked up in chains&lt;b...</td>\n",
       "    </tr>\n",
       "    <tr>\n",
       "      <th>4</th>\n",
       "      <td>Boys</td>\n",
       "      <td>Please Please Me</td>\n",
       "      <td>1963</td>\n",
       "      <td>145.0</td>\n",
       "      <td>Ringo</td>\n",
       "      <td>John・Paul・George</td>\n",
       "      <td>https://beatlesdata.info/1/05_boys.html</td>\n",
       "      <td>yPrlkxc31aU</td>\n",
       "      <td>325・Duo Jet・ヘフナー</td>\n",
       "      <td>fXBI2gZHL-4</td>\n",
       "      <td>7JxGM1R32ZqfwZou3VtnTg</td>\n",
       "      <td>I been told when a boy kiss a girl&lt;br&gt;Take a t...</td>\n",
       "    </tr>\n",
       "    <tr>\n",
       "      <th>...</th>\n",
       "      <td>...</td>\n",
       "      <td>...</td>\n",
       "      <td>...</td>\n",
       "      <td>...</td>\n",
       "      <td>...</td>\n",
       "      <td>...</td>\n",
       "      <td>...</td>\n",
       "      <td>...</td>\n",
       "      <td>...</td>\n",
       "      <td>...</td>\n",
       "      <td>...</td>\n",
       "      <td>...</td>\n",
       "    </tr>\n",
       "    <tr>\n",
       "      <th>211</th>\n",
       "      <td>Old Brown Shoe</td>\n",
       "      <td>Past Masters</td>\n",
       "      <td>1969</td>\n",
       "      <td>143.0</td>\n",
       "      <td>George</td>\n",
       "      <td>John・Paul</td>\n",
       "      <td>https://beatlesdata.info/16/12_oldbrownshoe.html</td>\n",
       "      <td></td>\n",
       "      <td></td>\n",
       "      <td>nWLIuIm2QnY</td>\n",
       "      <td>7vMCInGW1N1uTFC1LoklEM</td>\n",
       "      <td>I want a love that's right but right is only h...</td>\n",
       "    </tr>\n",
       "    <tr>\n",
       "      <th>212</th>\n",
       "      <td>You Know My Name (Look Up The Number)</td>\n",
       "      <td>Past Masters</td>\n",
       "      <td>1970</td>\n",
       "      <td>0.0</td>\n",
       "      <td>John・Paul</td>\n",
       "      <td></td>\n",
       "      <td>https://beatlesdata.info/16/15_youknowmayname....</td>\n",
       "      <td></td>\n",
       "      <td></td>\n",
       "      <td></td>\n",
       "      <td>2k7gS1tS9OHeS3e8MatzgJ</td>\n",
       "      <td>You know my name&lt;br&gt;Look up the number&lt;br&gt;You ...</td>\n",
       "    </tr>\n",
       "    <tr>\n",
       "      <th>213</th>\n",
       "      <td>Free As A Bird</td>\n",
       "      <td>Anthology 1</td>\n",
       "      <td>1995</td>\n",
       "      <td></td>\n",
       "      <td>John</td>\n",
       "      <td>Paul・George・Ringo</td>\n",
       "      <td>No data</td>\n",
       "      <td></td>\n",
       "      <td></td>\n",
       "      <td></td>\n",
       "      <td>6hLY3Tz1Xt5kBuKNDTs4ib</td>\n",
       "      <td>Free as a bird&lt;br&gt;It's the next best thing to ...</td>\n",
       "    </tr>\n",
       "    <tr>\n",
       "      <th>214</th>\n",
       "      <td>Real Love</td>\n",
       "      <td>Anthology 2</td>\n",
       "      <td>1996</td>\n",
       "      <td></td>\n",
       "      <td>John</td>\n",
       "      <td>Paul・George・Ringo</td>\n",
       "      <td>No data</td>\n",
       "      <td></td>\n",
       "      <td></td>\n",
       "      <td></td>\n",
       "      <td>5frMgt4jqRGJk3yMKfqOyl</td>\n",
       "      <td>All my little plans and schemes&lt;br&gt;Lost like s...</td>\n",
       "    </tr>\n",
       "    <tr>\n",
       "      <th>215</th>\n",
       "      <td>Now And Then</td>\n",
       "      <td>Now And Then</td>\n",
       "      <td>2023</td>\n",
       "      <td></td>\n",
       "      <td>John</td>\n",
       "      <td>Paul・Ringo</td>\n",
       "      <td>No data</td>\n",
       "      <td></td>\n",
       "      <td></td>\n",
       "      <td></td>\n",
       "      <td>4vziJcnB2Qyi9o4nIRUeN7</td>\n",
       "      <td>(One, two, three)&lt;br&gt;&lt;br&gt;I know it's true&lt;br&gt;I...</td>\n",
       "    </tr>\n",
       "  </tbody>\n",
       "</table>\n",
       "<p>216 rows × 12 columns</p>\n",
       "</div>"
      ],
      "text/plain": [
       "                                      song             album  year    bpm  \\\n",
       "0                 I Saw Her Standing There  Please Please Me  1962  160.0   \n",
       "1                                   Misery  Please Please Me  1963  134.0   \n",
       "2                         Anna (Go To Him)  Please Please Me  1963  109.0   \n",
       "3                                   Chains  Please Please Me  1963  130.0   \n",
       "4                                     Boys  Please Please Me  1963  145.0   \n",
       "..                                     ...               ...   ...    ...   \n",
       "211                         Old Brown Shoe      Past Masters  1969  143.0   \n",
       "212  You Know My Name (Look Up The Number)      Past Masters  1970    0.0   \n",
       "213                         Free As A Bird       Anthology 1  1995          \n",
       "214                              Real Love       Anthology 2  1996          \n",
       "215                           Now And Then      Now And Then  2023          \n",
       "\n",
       "         vocal            harmony  \\\n",
       "0         Paul               John   \n",
       "1    Paul・John                      \n",
       "2         John        Paul・George   \n",
       "3       George          Paul・John   \n",
       "4        Ringo   John・Paul・George   \n",
       "..         ...                ...   \n",
       "211     George          John・Paul   \n",
       "212  John・Paul                      \n",
       "213       John  Paul・George・Ringo   \n",
       "214       John  Paul・George・Ringo   \n",
       "215       John         Paul・Ringo   \n",
       "\n",
       "                                          database_url harmony_youtube  \\\n",
       "0    https://beatlesdata.info/1/01_isawherstandingt...     cj1z69kCHNY   \n",
       "1            https://beatlesdata.info/1/02_misery.html                   \n",
       "2              https://beatlesdata.info/1/03_anna.html     lVoV_eX8OnQ   \n",
       "3            https://beatlesdata.info/1/04_chains.html     bdRTlePJ0lI   \n",
       "4              https://beatlesdata.info/1/05_boys.html     yPrlkxc31aU   \n",
       "..                                                 ...             ...   \n",
       "211   https://beatlesdata.info/16/12_oldbrownshoe.html                   \n",
       "212  https://beatlesdata.info/16/15_youknowmayname....                   \n",
       "213                                            No data                   \n",
       "214                                            No data                   \n",
       "215                                            No data                   \n",
       "\n",
       "                 instruments instrumental_youtube                 spotify  \\\n",
       "0           325・Duo Jet・ヘフナー          VNchFGmF-jI  3KiexfmhxHvG5IgAElmTkd   \n",
       "1    J-160E・Duo Jet・ヘフナー・ピアノ          UX1v-XisfkY  40qXGg5nRbcWzcFb26KWkQ   \n",
       "2        J-160E・Duo Jet・ヘフナー          7-51b5RXCo8  2baEFuU0gQon0hgVRioI1o   \n",
       "3     325・Duo Jet・ヘフナー・ハーモニカ          DVhatLAd0Tg  3JQWLa88R35d971o5bIImd   \n",
       "4           325・Duo Jet・ヘフナー          fXBI2gZHL-4  7JxGM1R32ZqfwZou3VtnTg   \n",
       "..                       ...                  ...                     ...   \n",
       "211                                   nWLIuIm2QnY  7vMCInGW1N1uTFC1LoklEM   \n",
       "212                                                2k7gS1tS9OHeS3e8MatzgJ   \n",
       "213                                                6hLY3Tz1Xt5kBuKNDTs4ib   \n",
       "214                                                5frMgt4jqRGJk3yMKfqOyl   \n",
       "215                                                4vziJcnB2Qyi9o4nIRUeN7   \n",
       "\n",
       "                                                lyrics  \n",
       "0    (1,2,3,4!)<br><br>Well, she was just seventeen...  \n",
       "1    The world is treating me bad... Misery<br><br>...  \n",
       "2    Anna<br>You come and ask me, girl<br>To set yo...  \n",
       "3    Chains, my baby's got me locked up in chains<b...  \n",
       "4    I been told when a boy kiss a girl<br>Take a t...  \n",
       "..                                                 ...  \n",
       "211  I want a love that's right but right is only h...  \n",
       "212  You know my name<br>Look up the number<br>You ...  \n",
       "213  Free as a bird<br>It's the next best thing to ...  \n",
       "214  All my little plans and schemes<br>Lost like s...  \n",
       "215  (One, two, three)<br><br>I know it's true<br>I...  \n",
       "\n",
       "[216 rows x 12 columns]"
      ]
     },
     "execution_count": 6,
     "metadata": {},
     "output_type": "execute_result"
    }
   ],
   "source": [
    "import pandas as pd\n",
    "import json, os, glob, re\n",
    "df = pd.read_csv('beatles.csv')\n",
    "df.fillna(\"\", inplace=True)\n",
    "df = df[['song','album','year','bpm','vocal','harmony','database_url','harmony_youtube','instruments','instrumental_youtube','spotify','lyrics']]\n",
    "df"
   ]
  },
  {
   "cell_type": "code",
   "execution_count": 9,
   "metadata": {},
   "outputs": [],
   "source": [
    "with open(\"js/beatles.js\", \"w\") as f:\n",
    "    ### SONGDATA\n",
    "    f.write(\"const SONGDATA = {\\n\")\n",
    "    for i, row in df.iterrows():\n",
    "        data = [row[col] for col in row.drop(\"song\").index]\n",
    "        f.write(f\"\\t{json.dumps(row['song'])}: {data},\\n\")\n",
    "    f.write(\"}\\n\\n\")\n",
    "\n",
    "    ### PDFs\n",
    "    files = glob.glob('music/scores/*')\n",
    "    files = sorted([f.split('/')[-1].split('.pdf')[0] for f in files])\n",
    "    f.write(\"const PDFs = [\\n\")\n",
    "    for file in files:\n",
    "        f.write(f\"\\t{json.dumps(file)},\\n\")\n",
    "    f.write(\"]\\n\\n\")\n",
    "\n",
    "    ### SONGNAMES\n",
    "    f.write(\"const SONGNAMES = [\\n\")\n",
    "    for song in df[\"song\"]:\n",
    "        f.write(f\"\\t{json.dumps(song)},\\n\")\n",
    "    f.write(\"]\")"
   ]
  },
  {
   "attachments": {},
   "cell_type": "markdown",
   "metadata": {},
   "source": [
    "# others"
   ]
  },
  {
   "cell_type": "code",
   "execution_count": 27,
   "metadata": {},
   "outputs": [
    {
     "name": "stdout",
     "output_type": "stream",
     "text": [
      "<li class=\"notplayed\" onclick=\"make_data('From Me To You')\">From Me To You</li>\n",
      "<li class=\"notplayed\" onclick=\"make_data('Thank You Girl')\">Thank You Girl</li>\n",
      "<li class=\"notplayed\" onclick=\"make_data('She Loves You')\">She Loves You</li>\n",
      "<li class=\"notplayed\" onclick=\"make_data('I'll Get You')\">I'll Get You</li>\n",
      "<li class=\"notplayed\" onclick=\"make_data('I Want To Hold Your Hand')\">I Want To Hold Your Hand</li>\n",
      "<li class=\"notplayed\" onclick=\"make_data('This Boy')\">This Boy</li>\n",
      "<li class=\"notplayed\" onclick=\"make_data('Komm, Gib Mir Deine Hand')\">Komm, Gib Mir Deine Hand</li>\n",
      "<li class=\"notplayed\" onclick=\"make_data('Sie Liebt Dich')\">Sie Liebt Dich</li>\n",
      "<li class=\"notplayed\" onclick=\"make_data('Long Tall Sally')\">Long Tall Sally</li>\n",
      "<li class=\"notplayed\" onclick=\"make_data('I Call Your Name')\">I Call Your Name</li>\n",
      "<li class=\"notplayed\" onclick=\"make_data('Slow Down')\">Slow Down</li>\n",
      "<li class=\"notplayed\" onclick=\"make_data('Matchbox')\">Matchbox</li>\n",
      "<li class=\"notplayed\" onclick=\"make_data('I Feel Fine')\">I Feel Fine</li>\n",
      "<li class=\"notplayed\" onclick=\"make_data('She's A Woman')\">She's A Woman</li>\n",
      "<li class=\"notplayed\" onclick=\"make_data('Bad Boy')\">Bad Boy</li>\n",
      "<li class=\"notplayed\" onclick=\"make_data('Yes It Is')\">Yes It Is</li>\n",
      "<li class=\"notplayed\" onclick=\"make_data('I'm Down')\">I'm Down</li>\n",
      "<li class=\"notplayed\" onclick=\"make_data('Day Tripper')\">Day Tripper</li>\n",
      "<li class=\"notplayed\" onclick=\"make_data('We Can Work It Out')\">We Can Work It Out</li>\n",
      "<li class=\"notplayed\" onclick=\"make_data('Paperback Writer')\">Paperback Writer</li>\n",
      "<li class=\"notplayed\" onclick=\"make_data('Rain')\">Rain</li>\n",
      "<li class=\"notplayed\" onclick=\"make_data('Lady Madonna')\">Lady Madonna</li>\n",
      "<li class=\"notplayed\" onclick=\"make_data('The Inner Light')\">The Inner Light</li>\n",
      "<li class=\"notplayed\" onclick=\"make_data('Hey Jude')\">Hey Jude</li>\n",
      "<li class=\"notplayed\" onclick=\"make_data('Revolution')\">Revolution</li>\n",
      "<li class=\"notplayed\" onclick=\"make_data('Don't Let Me Down')\">Don't Let Me Down</li>\n",
      "<li class=\"notplayed\" onclick=\"make_data('The Ballad Of John And Yoko')\">The Ballad Of John And Yoko</li>\n",
      "<li class=\"notplayed\" onclick=\"make_data('Old Brown Shoe')\">Old Brown Shoe</li>\n",
      "<li class=\"notplayed\" onclick=\"make_data('You Know My Name (Look Up The Number)')\">You Know My Name (Look Up The Number)</li>\n"
     ]
    }
   ],
   "source": [
    "for s in df[df.album.str.startswith('Past')].reset_index().song.to_list():\n",
    "    text = f\"\"\"<li class=\"notplayed\" onclick=\"make_data('{s}')\">{s}</li>\"\"\"\n",
    "    print(text)"
   ]
  },
  {
   "cell_type": "code",
   "execution_count": 4,
   "metadata": {},
   "outputs": [],
   "source": [
    "import matplotlib.pyplot as plt\n",
    "plt.style.use(\"ggplot\")\n",
    "import numpy as np"
   ]
  },
  {
   "cell_type": "code",
   "execution_count": 17,
   "metadata": {},
   "outputs": [
    {
     "data": {
      "image/png": "[encoded data removed]",
      "text/plain": [
       "<Figure size 432x360 with 1 Axes>"
      ]
     },
     "metadata": {
      "needs_background": "light"
     },
     "output_type": "display_data"
    }
   ],
   "source": [
    "import matplotlib.pyplot as plt\n",
    "import numpy as np\n",
    "\n",
    "delta = 0.001\n",
    "xrange = np.arange(delta, 2, delta)\n",
    "yrange = np.arange(-1.5, 2, delta)\n",
    "X, Y = np.meshgrid(xrange,yrange)\n",
    "Z = X**2 + (Y-X**(2/3))**2 - 1\n",
    "plt.figure(figsize=(6,5))\n",
    "plt.contour(X, Y, Z, [0])\n",
    "plt.contour(-X, Y, Z, [0])\n",
    "plt.xlim([-1.5, 1.5])\n",
    "plt.ylim([-1.2, 1.8])\n",
    "plt.show()"
   ]
  },
  {
   "cell_type": "code",
   "execution_count": 29,
   "metadata": {},
   "outputs": [],
   "source": [
    "import requests\n",
    "from bs4 import BeautifulSoup\n",
    "\n",
    "r = requests.get(\"https://search.travel.rakuten.co.jp/ds/undated/search?f_dai=japan&f_chu=hokkaido&f_shou=&f_sai=&f_cd=02&f_ptn=tiku&f_latitude=0&f_longitude=0&f_layout=&f_sort=hotel&f_rm_equip=&f_page=1&f_hyoji=30&f_image=1&f_tab=hotel&f_setubi=&f_snow_code=&f_cok=&f_ido=&f_kdo=&f_km=&f_teikei=&f_campaign=&f_disp_type=&f_kin=&f_kin2=&f_landmark_id=&f_squeezes=roten\")\n",
    "c = r.content\n",
    "\n",
    "soup = BeautifulSoup(c, \"html.parser\")\n",
    "\n",
    "hotels = soup.select(\"#htlBox > li\")\n",
    "\n",
    "all_data = []\n",
    "for hotel in hotels:\n",
    "    data = {\n",
    "        \"施設名\": hotel.select_one(\"div.info\").text.strip(),\n",
    "        \"住所\": hotel.select_one(\"p.htlAccess\").text.strip(),\n",
    "        \"説明\": hotel.select_one(\"p.htlSpecial\").text.strip(),\n",
    "        \"価格\": hotel.select_one(\"p.htlPrice\").text.strip(),\n",
    "        \"画像\": hotel.select_one(\"img\").get(\"src\").split(\"?\")[0]\n",
    "    }\n",
    "    all_data.append(data)"
   ]
  },
  {
   "cell_type": "code",
   "execution_count": 30,
   "metadata": {},
   "outputs": [
    {
     "data": {
      "text/plain": [
       "{'施設名': '函館・湯の川・大沼・奥尻\\n東急ステイ函館朝市\\u3000灯の湯（あかりのゆ）\\nこちらの宿泊施設は、宿泊者からの総合評価点数が高い、もしくは多くの宿泊実績がある等の独自の条件を満たしたプリファードプログラム参加施設です。楽天トラベルへサービス利用料を支払うことにより、原則同条件の他の施設よりも上位に表示されています。（ヘルプページ参照）\\n\\n\\r\\n    \\t\\t[最安料金]\\r\\n\\t\\t\\t3,846円〜（消費税込4,230円〜）\\n\\n\\n\\n4.40\\r\\n\\t\\t\\t\\r\\n\\t\\t\\t[お客さまの声（256件）]\\r\\n\\t\\t\\n\\n最上階に露天風呂付天然温泉大浴場を完備！ご朝食は函館朝市提携13店舗からご朝食をチョイス！全客室に洗濯乾燥機を完備！',\n",
       " '住所': '〒040-0064\\u3000北海道函館市大手町22-1-1[地図を見る]',\n",
       " '説明': '最上階に露天風呂付天然温泉大浴場を完備！ご朝食は函館朝市提携13店舗からご朝食をチョイス！全客室に洗濯乾燥機を完備！',\n",
       " '価格': '[最安料金]\\r\\n\\t\\t\\t3,846円〜（消費税込4,230円〜）',\n",
       " '画像': 'https://trvimg.r10s.jp/share/image_up/179583/origin/a56a30d01372bd9102fe0979bc8540a91bbe86f4.47.9.26.3.jpg'}"
      ]
     },
     "execution_count": 30,
     "metadata": {},
     "output_type": "execute_result"
    }
   ],
   "source": [
    "all_data[0]"
   ]
  },
  {
   "cell_type": "code",
   "execution_count": 47,
   "metadata": {},
   "outputs": [
    {
     "name": "stdout",
     "output_type": "stream",
     "text": [
      "1th fold\n",
      "A    100\n",
      "B     67\n",
      "C     33\n",
      "Name: y, dtype: int64 \n",
      "\n",
      "2th fold\n",
      "A    100\n",
      "B     67\n",
      "C     33\n",
      "Name: y, dtype: int64 \n",
      "\n",
      "3th fold\n",
      "A    100\n",
      "B     66\n",
      "C     34\n",
      "Name: y, dtype: int64 \n",
      "\n"
     ]
    }
   ],
   "source": [
    "import pandas as pd\n",
    "from sklearn.model_selection import StratifiedKFold\n",
    "\n",
    "y = [\"A\"]*300 + [\"B\"]*200 + [\"C\"]*100\n",
    "df = pd.DataFrame({\"x\":range(600), \"y\":y})\n",
    "\n",
    "skf = StratifiedKFold(n_splits=3)\n",
    "\n",
    "for cv_i, (train_index, dev_index) in enumerate(skf.split(df[[\"x\"]], df.y)):\n",
    "    print(f\"{cv_i+1}th fold\")\n",
    "    print(df.loc[dev_index, \"y\"].value_counts(), \"\\n\")"
   ]
  },
  {
   "cell_type": "code",
   "execution_count": 57,
   "metadata": {},
   "outputs": [
    {
     "name": "stdout",
     "output_type": "stream",
     "text": [
      "1回目です\n",
      "3\n",
      "2回目です\n",
      "5\n",
      "3回目です\n",
      "7\n"
     ]
    }
   ],
   "source": [
    "for i in range(3):\n",
    "    print(f\"{i+1}回目です\")\n",
    "    print(2*i+ 3)"
   ]
  },
  {
   "cell_type": "code",
   "execution_count": 59,
   "metadata": {},
   "outputs": [
    {
     "name": "stdout",
     "output_type": "stream",
     "text": [
      "7\n"
     ]
    }
   ],
   "source": [
    "word='python '\n",
    "n=len(word)\n",
    "print(n)"
   ]
  },
  {
   "cell_type": "code",
   "execution_count": 60,
   "metadata": {},
   "outputs": [
    {
     "name": "stdout",
     "output_type": "stream",
     "text": [
      "<class 'str'>\n",
      "<class 'int'>\n",
      "<class 'builtin_function_or_method'>\n",
      "<class 'builtin_function_or_method'>\n"
     ]
    }
   ],
   "source": [
    "print(type(word))\n",
    "print(type(n))\n",
    "print(type(len))\n",
    "print(type(print))"
   ]
  },
  {
   "cell_type": "code",
   "execution_count": 66,
   "metadata": {},
   "outputs": [
    {
     "data": {
      "text/plain": [
       "0       b\n",
       "1       c\n",
       "2    None\n",
       "dtype: object"
      ]
     },
     "execution_count": 66,
     "metadata": {},
     "output_type": "execute_result"
    }
   ],
   "source": [
    "df = pd.DataFrame({\n",
    "    \"label1\":[\"a\",\"c\",\"e\"],\n",
    "    \"col1\":[1,5,3],\n",
    "    \"col2\":[2,0,3],\n",
    "    \"label2\":[\"b\",\"d\",\"f\"]})\n",
    "\n",
    "def get_label(row):\n",
    "    if row[\"col1\"] > row[\"col2\"]:\n",
    "        return row[\"label1\"]\n",
    "    elif row[\"col1\"] < row[\"col2\"]:\n",
    "        return row[\"label2\"]\n",
    "    else:\n",
    "        return None\n",
    "\n",
    "df.apply(get_label, axis=1)"
   ]
  },
  {
   "cell_type": "code",
   "execution_count": 68,
   "metadata": {},
   "outputs": [
    {
     "data": {
      "text/plain": [
       "['b', 'c']"
      ]
     },
     "execution_count": 68,
     "metadata": {},
     "output_type": "execute_result"
    }
   ],
   "source": [
    "df = pd.DataFrame({\n",
    "    \"label1\":[\"a\",\"c\",\"e\"],\n",
    "    \"col1\":[1,5,3],\n",
    "    \"col2\":[2,0,3],\n",
    "    \"label2\":[\"b\",\"d\",\"f\"]})\n",
    "\n",
    "result = []\n",
    "for i, row in df.iterrows():\n",
    "    if row[\"col1\"] > row[\"col2\"]:\n",
    "        result.append(row[\"label1\"])\n",
    "    elif row[\"col1\"] < row[\"col2\"]:\n",
    "        result.append(row[\"label2\"])\n",
    "\n",
    "result"
   ]
  },
  {
   "cell_type": "code",
   "execution_count": 85,
   "metadata": {},
   "outputs": [],
   "source": [
    "import sympy as sym"
   ]
  },
  {
   "cell_type": "code",
   "execution_count": 86,
   "metadata": {},
   "outputs": [],
   "source": [
    "x = sym.Symbol(\"x\")"
   ]
  },
  {
   "cell_type": "code",
   "execution_count": 87,
   "metadata": {},
   "outputs": [],
   "source": [
    "f = x**2 + 3*x + 5"
   ]
  },
  {
   "cell_type": "code",
   "execution_count": 91,
   "metadata": {},
   "outputs": [
    {
     "name": "stdout",
     "output_type": "stream",
     "text": [
      "偶数\n",
      "0 2 4 6 8 10 12 14 16\n",
      "奇数\n",
      "1 3 5 7 9 11 13 15\n"
     ]
    }
   ],
   "source": [
    "n = int(input(\"0-99の数字を入力: \"))\n",
    "evens = []\n",
    "odds = []\n",
    "for i in range(n+1):\n",
    "    if i % 2 == 0:\n",
    "        evens.append(i)\n",
    "    else:\n",
    "        odds.append(i)\n",
    "\n",
    "print(\"偶数\")\n",
    "print(*evens)\n",
    "print(\"奇数\")\n",
    "print(*odds)"
   ]
  },
  {
   "cell_type": "code",
   "execution_count": 94,
   "metadata": {},
   "outputs": [
    {
     "name": "stdout",
     "output_type": "stream",
     "text": [
      "n = 24\n",
      "sum: 2100\n"
     ]
    }
   ],
   "source": [
    "total = 0\n",
    "i = 0\n",
    "while total <= 2000:\n",
    "    i += 1\n",
    "    total += 7*i\n",
    "print(f\"n = {i}\")\n",
    "print(f\"sum: {total}\")"
   ]
  },
  {
   "cell_type": "code",
   "execution_count": 92,
   "metadata": {},
   "outputs": [
    {
     "name": "stdout",
     "output_type": "stream",
     "text": [
      "n = 24\n",
      "sum: 2100\n"
     ]
    }
   ],
   "source": [
    "total = 0\n",
    "for i in range(1,1000):\n",
    "    total += 7*i\n",
    "    if total > 2000:\n",
    "        break\n",
    "print(f\"n = {i}\")\n",
    "print(f\"sum: {total}\")\n"
   ]
  },
  {
   "cell_type": "code",
   "execution_count": 96,
   "metadata": {},
   "outputs": [
    {
     "name": "stdout",
     "output_type": "stream",
     "text": [
      "n = 24\n",
      "sum: 2100\n"
     ]
    }
   ],
   "source": [
    "for i in range(1, 100):\n",
    "    total = int(7/2 * i * (i+1))\n",
    "    if total > 2000:\n",
    "        break\n",
    "print(f\"n = {i}\")\n",
    "print(f\"sum: {total}\")"
   ]
  },
  {
   "cell_type": "code",
   "execution_count": 110,
   "metadata": {},
   "outputs": [],
   "source": [
    "x\n",
    "\n",
    "with open(\"data.txt\", \"w\") as f:\n",
    "    for x, y in zip(xs, ys):\n",
    "        f.write(f\"{x},{y}\\n\")\n"
   ]
  },
  {
   "cell_type": "code",
   "execution_count": 112,
   "metadata": {},
   "outputs": [
    {
     "data": {
      "text/html": [
       "<div>\n",
       "<style scoped>\n",
       "    .dataframe tbody tr th:only-of-type {\n",
       "        vertical-align: middle;\n",
       "    }\n",
       "\n",
       "    .dataframe tbody tr th {\n",
       "        vertical-align: top;\n",
       "    }\n",
       "\n",
       "    .dataframe thead th {\n",
       "        text-align: right;\n",
       "    }\n",
       "</style>\n",
       "<table border=\"1\" class=\"dataframe\">\n",
       "  <thead>\n",
       "    <tr style=\"text-align: right;\">\n",
       "      <th></th>\n",
       "      <th>x</th>\n",
       "      <th>y</th>\n",
       "    </tr>\n",
       "  </thead>\n",
       "  <tbody>\n",
       "    <tr>\n",
       "      <th>0</th>\n",
       "      <td>1</td>\n",
       "      <td>3</td>\n",
       "    </tr>\n",
       "    <tr>\n",
       "      <th>1</th>\n",
       "      <td>2</td>\n",
       "      <td>5</td>\n",
       "    </tr>\n",
       "    <tr>\n",
       "      <th>2</th>\n",
       "      <td>3</td>\n",
       "      <td>7</td>\n",
       "    </tr>\n",
       "    <tr>\n",
       "      <th>3</th>\n",
       "      <td>4</td>\n",
       "      <td>9</td>\n",
       "    </tr>\n",
       "    <tr>\n",
       "      <th>4</th>\n",
       "      <td>5</td>\n",
       "      <td>11</td>\n",
       "    </tr>\n",
       "    <tr>\n",
       "      <th>5</th>\n",
       "      <td>6</td>\n",
       "      <td>13</td>\n",
       "    </tr>\n",
       "  </tbody>\n",
       "</table>\n",
       "</div>"
      ],
      "text/plain": [
       "   x   y\n",
       "0  1   3\n",
       "1  2   5\n",
       "2  3   7\n",
       "3  4   9\n",
       "4  5  11\n",
       "5  6  13"
      ]
     },
     "execution_count": 112,
     "metadata": {},
     "output_type": "execute_result"
    }
   ],
   "source": [
    "import pandas as pd\n",
    "\n",
    "xs = [1,2,3,4,5,6]\n",
    "ys = [3,5,7,9,11,13]\n",
    "\n",
    "df = pd.DataFrame({\"x\":xs, \"y\":ys})\n",
    "df"
   ]
  },
  {
   "cell_type": "code",
   "execution_count": 150,
   "metadata": {},
   "outputs": [],
   "source": [
    "def is_prime(n):\n",
    "    for i in range(2, int(n**0.5)+1):\n",
    "        if n % i == 0:\n",
    "            return False\n",
    "    return True\n",
    "\n",
    "def get_prime(n):\n",
    "    primes = []\n",
    "    for i in range(2, int(n**0.5)+1):\n",
    "        if is_prime(i) and (n % i == 0):\n",
    "            primes.append(i)\n",
    "    return primes "
   ]
  },
  {
   "cell_type": "code",
   "execution_count": 160,
   "metadata": {},
   "outputs": [],
   "source": [
    "def get_prime_fast(n):\n",
    "    i = 2\n",
    "    primes = []\n",
    "    while i <= n:\n",
    "        if n % i == 0:\n",
    "            primes.append(i)\n",
    "            n = n//i\n",
    "        else:\n",
    "            i += 1\n",
    "    return primes"
   ]
  },
  {
   "cell_type": "code",
   "execution_count": 161,
   "metadata": {},
   "outputs": [
    {
     "data": {
      "text/plain": [
       "[71, 839, 1471, 6857]"
      ]
     },
     "execution_count": 161,
     "metadata": {},
     "output_type": "execute_result"
    }
   ],
   "source": [
    "get_prime_fast(600851475143)"
   ]
  },
  {
   "cell_type": "code",
   "execution_count": 165,
   "metadata": {},
   "outputs": [
    {
     "name": "stdout",
     "output_type": "stream",
     "text": [
      "hogefuge\n",
      "['hogeHoge' 'fugeHoge']\n"
     ]
    }
   ],
   "source": [
    "def aaa1():\n",
    "    def myfunc(a, b):\n",
    "        return a+b\n",
    "    print(myfunc(\"hoge\", \"fuge\"))\n",
    "    list=[\"hoge\", \"fuge\"]\n",
    "    vfunc=np.vectorize(myfunc)\n",
    "    #print(myfunc(list,\"Hoge\"))\n",
    "    vv=vfunc(list,\"Hoge\") #error:invalid syntax\n",
    "    print(vv)\n",
    "    \n",
    "aaa1()"
   ]
  },
  {
   "cell_type": "code",
   "execution_count": 4,
   "metadata": {},
   "outputs": [
    {
     "data": {
      "text/plain": [
       "'私 の 学校 は 、 東京 の 中央 区 に あり ます \\n'"
      ]
     },
     "execution_count": 4,
     "metadata": {},
     "output_type": "execute_result"
    }
   ],
   "source": [
    "import MeCab\n",
    "\n",
    "## instantiate tokenizer\n",
    "tokenizer = MeCab.Tagger(\"-Owakati\")\n",
    "\n",
    "## tokenize sentence\n",
    "text = \"私の学校は、東京の中央区にあります\"\n",
    "tokens = tokenizer.parse(text)\n",
    "\n",
    "## return is string of tokens with whitespaces\n",
    "tokens\n"
   ]
  },
  {
   "cell_type": "code",
   "execution_count": 6,
   "metadata": {},
   "outputs": [
    {
     "name": "stdout",
     "output_type": "stream",
     "text": [
      "私\t名詞,代名詞,一般,*,*,*,私,ワタシ,ワタシ\n",
      "の\t助詞,連体化,*,*,*,*,の,ノ,ノ\n",
      "学校\t名詞,一般,*,*,*,*,学校,ガッコウ,ガッコー\n",
      "は\t助詞,係助詞,*,*,*,*,は,ハ,ワ\n",
      "、\t記号,読点,*,*,*,*,、,、,、\n",
      "東京\t名詞,固有名詞,地域,一般,*,*,東京,トウキョウ,トーキョー\n",
      "の\t助詞,連体化,*,*,*,*,の,ノ,ノ\n",
      "中央\t名詞,固有名詞,地域,一般,*,*,中央,チュウオウ,チューオー\n",
      "区\t名詞,接尾,地域,*,*,*,区,ク,ク\n",
      "に\t助詞,格助詞,一般,*,*,*,に,ニ,ニ\n",
      "あり\t動詞,自立,*,*,五段・ラ行,連用形,ある,アリ,アリ\n",
      "ます\t助動詞,*,*,*,特殊・マス,基本形,ます,マス,マス\n",
      "EOS\n",
      "\n"
     ]
    }
   ],
   "source": [
    "## tokenization and tagging\n",
    "tagger = MeCab.Tagger()\n",
    "\n",
    "text = \"私の学校は、東京の中央区にあります\"\n",
    "tokens = tagger.parse(text)\n",
    "\n",
    "## return is string of tokens with tags\n",
    "print(tokens)"
   ]
  },
  {
   "cell_type": "code",
   "execution_count": 7,
   "metadata": {},
   "outputs": [
    {
     "data": {
      "text/plain": [
       "[['私', '名詞', '代名詞', '一般', '*', '*', '*', '私', 'ワタシ', 'ワタシ'],\n",
       " ['の', '助詞', '連体化', '*', '*', '*', '*', 'の', 'ノ', 'ノ'],\n",
       " ['学校', '名詞', '一般', '*', '*', '*', '*', '学校', 'ガッコウ', 'ガッコー'],\n",
       " ['は', '助詞', '係助詞', '*', '*', '*', '*', 'は', 'ハ', 'ワ'],\n",
       " ['、', '記号', '読点', '*', '*', '*', '*', '、', '、', '、'],\n",
       " ['東京', '名詞', '固有名詞', '地域', '一般', '*', '*', '東京', 'トウキョウ', 'トーキョー'],\n",
       " ['の', '助詞', '連体化', '*', '*', '*', '*', 'の', 'ノ', 'ノ'],\n",
       " ['中央', '名詞', '固有名詞', '地域', '一般', '*', '*', '中央', 'チュウオウ', 'チューオー'],\n",
       " ['区', '名詞', '接尾', '地域', '*', '*', '*', '区', 'ク', 'ク'],\n",
       " ['に', '助詞', '格助詞', '一般', '*', '*', '*', 'に', 'ニ', 'ニ'],\n",
       " ['あり', '動詞', '自立', '*', '*', '五段・ラ行', '連用形', 'ある', 'アリ', 'アリ'],\n",
       " ['ます', '助動詞', '*', '*', '*', '特殊・マス', '基本形', 'ます', 'マス', 'マス'],\n",
       " ['EOS']]"
      ]
     },
     "execution_count": 7,
     "metadata": {},
     "output_type": "execute_result"
    }
   ],
   "source": [
    "import re\n",
    "token_list = [re.split(r\"[\\t,]\", token) for token in tokens.split('\\n')[:-1]]\n",
    "token_list"
   ]
  },
  {
   "cell_type": "code",
   "execution_count": 8,
   "metadata": {},
   "outputs": [
    {
     "data": {
      "text/plain": [
       "'私\\t名詞,代名詞,一般,*,*,*,私,ワタシ,ワタシ\\nの\\t助詞,連体化,*,*,*,*,の,ノ,ノ\\n学校\\t名詞,一般,*,*,*,*,学校,ガッコウ,ガッコー\\nは\\t助詞,係助詞,*,*,*,*,は,ハ,ワ\\n、\\t記号,読点,*,*,*,*,、,、,、\\n東京\\t名詞,固有名詞,地域,一般,*,*,東京,トウキョウ,トーキョー\\nの\\t助詞,連体化,*,*,*,*,の,ノ,ノ\\n中央\\t名詞,固有名詞,地域,一般,*,*,中央,チュウオウ,チューオー\\n区\\t名詞,接尾,地域,*,*,*,区,ク,ク\\nに\\t助詞,格助詞,一般,*,*,*,に,ニ,ニ\\nあり\\t動詞,自立,*,*,五段・ラ行,連用形,ある,アリ,アリ\\nます\\t助動詞,*,*,*,特殊・マス,基本形,ます,マス,マス\\nEOS\\n'"
      ]
     },
     "execution_count": 8,
     "metadata": {},
     "output_type": "execute_result"
    }
   ],
   "source": [
    "tokens"
   ]
  },
  {
   "cell_type": "code",
   "execution_count": 14,
   "metadata": {},
   "outputs": [],
   "source": [
    "with open(\"1000-most-common-words.txt\", 'r') as f: \n",
    "    data = f.read().splitlines()"
   ]
  },
  {
   "cell_type": "code",
   "execution_count": 3,
   "metadata": {},
   "outputs": [
    {
     "name": "stdout",
     "output_type": "stream",
     "text": [
      "1ターン目で逃げない : 37.5\n",
      "2ターン目で逃げない : 14.0625\n",
      "3ターン目で逃げない : 5.2734375\n",
      "4ターン目で逃げない : 1.9775390625\n",
      "5ターン目で逃げない : 0.7415771484375\n",
      "6ターン目で逃げない : 0.2780914306640625\n",
      "7ターン目で逃げない : 0.10428428649902344\n",
      "8ターン目で逃げない : 0.03910660743713379\n",
      "9ターン目で逃げない : 0.014664977788925171\n",
      "10ターン目で逃げない : 0.005499366670846939\n"
     ]
    }
   ],
   "source": [
    "for i in range(1,11):\n",
    "    print(f\"{i}ターン目で逃げない :\", (3/8)**i*100)"
   ]
  },
  {
   "cell_type": "code",
   "execution_count": 16,
   "metadata": {},
   "outputs": [
    {
     "data": {
      "text/plain": [
       "['beauty', 'quiet']"
      ]
     },
     "execution_count": 16,
     "metadata": {},
     "output_type": "execute_result"
    }
   ],
   "source": [
    "words"
   ]
  },
  {
   "cell_type": "code",
   "execution_count": null,
   "metadata": {},
   "outputs": [],
   "source": []
  }
 ],
 "metadata": {
  "file_extension": ".py",
  "kernelspec": {
   "display_name": "Python 3.9.13 64-bit",
   "language": "python",
   "name": "python3"
  },
  "language_info": {
   "codemirror_mode": {
    "name": "ipython",
    "version": 3
   },
   "file_extension": ".py",
   "mimetype": "text/x-python",
   "name": "python",
   "nbconvert_exporter": "python",
   "pygments_lexer": "ipython3",
   "version": "3.9.13"
  },
  "mimetype": "text/x-python",
  "name": "python",
  "npconvert_exporter": "python",
  "orig_nbformat": 2,
  "pygments_lexer": "ipython3",
  "version": 3,
  "vscode": {
   "interpreter": {
    "hash": "aee8b7b246df8f9039afb4144a1f6fd8d2ca17a180786b69acc140d282b71a49"
   }
  }
 },
 "nbformat": 4,
 "nbformat_minor": 2
}
